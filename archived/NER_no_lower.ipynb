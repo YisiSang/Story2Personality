{
 "cells": [
  {
   "cell_type": "code",
   "execution_count": null,
   "id": "463a9fb7",
   "metadata": {},
   "outputs": [],
   "source": [
    "import pandas as pd\n",
    "\n",
    "import spacy\n",
    "from collections import Counter\n",
    "import en_core_web_sm\n",
    "nlp = en_core_web_sm.load()\n",
    "# for visualizations\n",
    "%matplotlib inline"
   ]
  },
  {
   "cell_type": "code",
   "execution_count": null,
   "id": "4bc8d6b8",
   "metadata": {},
   "outputs": [],
   "source": [
    "df = pd.read_pickle('Merge_silver_by_stats_bad_formt_no_lower.pkl')"
   ]
  },
  {
   "cell_type": "code",
   "execution_count": null,
   "id": "8f1b6a59",
   "metadata": {},
   "outputs": [],
   "source": [
    "def spacy_entity(df):    \n",
    "    df = nlp(df)\n",
    "    df = [[w.text,w.label_] for w in df.ents]\n",
    "    return df"
   ]
  },
  {
   "cell_type": "code",
   "execution_count": null,
   "id": "09addb1f",
   "metadata": {},
   "outputs": [],
   "source": [
    "df['NER_title'] = df['title'].apply(spacy_entity)\n",
    "df"
   ]
  },
  {
   "cell_type": "code",
   "execution_count": null,
   "id": "abc91ae4",
   "metadata": {},
   "outputs": [],
   "source": [
    "df['NER_text'] = df['text'].apply(spacy_entity)\n",
    "df"
   ]
  },
  {
   "cell_type": "code",
   "execution_count": null,
   "id": "398b14f4",
   "metadata": {},
   "outputs": [],
   "source": [
    "df.to_pickle('NER_no_lower.pkl')"
   ]
  },
  {
   "cell_type": "code",
   "execution_count": null,
   "id": "0d82cdad",
   "metadata": {},
   "outputs": [],
   "source": [
    "test = pd.read_pickle('scene_NER.pkl')\n",
    "test"
   ]
  }
 ],
 "metadata": {
  "kernelspec": {
   "display_name": "Python 3.8.13 ('person')",
   "language": "python",
   "name": "python3"
  },
  "language_info": {
   "codemirror_mode": {
    "name": "ipython",
    "version": 3
   },
   "file_extension": ".py",
   "mimetype": "text/x-python",
   "name": "python",
   "nbconvert_exporter": "python",
   "pygments_lexer": "ipython3",
   "version": "3.8.13"
  },
  "vscode": {
   "interpreter": {
    "hash": "eb58d56c1d3c0e936e8c32e8fdc60ac99dd040c5b77cb10c33809136811af720"
   }
  }
 },
 "nbformat": 4,
 "nbformat_minor": 5
}
